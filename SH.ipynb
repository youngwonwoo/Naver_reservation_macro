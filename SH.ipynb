{
 "cells": [
  {
   "cell_type": "code",
   "execution_count": 84,
   "metadata": {},
   "outputs": [],
   "source": [
    "from selenium import webdriver\n",
    "from datetime import datetime\n",
    "from selenium.webdriver.common.keys import Keys\n",
    "import time\n",
    "from selenium.webdriver.chrome.options import Options"
   ]
  },
  {
   "cell_type": "code",
   "execution_count": 89,
   "metadata": {},
   "outputs": [],
   "source": [
    "# 1. debug 먼저 cmd라인에 시작하고 naver로그인, 창은 띄어놓은체로 2.크롬 드라이버로 진행\n",
    "# mac\n",
    "# chrome debug 모드 시작 - /Applications/Google\\ Chrome.app/Contents/MacOS/Google\\ Chrome --remote-debugging-port=9222 --user-data-dir=\"~/Desktop/temp_chrome\"\n",
    "# chrome 드라이버 저장소 - \"/Users/name/Desktop/chromedriver\"\n",
    "\n",
    "# window\n",
    "# chrome debug 모드 시작 - C:\\Program Files (x86)\\Google\\Chrome\\Application\\chrome.exe --remote-debugging-port=9222 --user-data-dir=\"C:/Chrome_debug_temp\"\n",
    "# chrome 드라이버 저장소 - \"C:/Temp/chromedriver.exe\"\n",
    "\n",
    "# 2. 크롬 드라이버\n",
    "chrome_options = Options()\n",
    "chrome_options.add_experimental_option(\"debuggerAddress\", \"127.0.0.1:9222\")\n",
    "driver = webdriver.Chrome('./chromedriver')\n",
    "driver = webdriver.Chrome(chrome_driver, options=chrome_options)"
   ]
  },
  {
   "cell_type": "code",
   "execution_count": null,
   "metadata": {},
   "outputs": [],
   "source": [
    "#예약 코트 변경\n",
    "url = \"https://booking.naver.com/booking/10/bizes/217811/items/4074271\"\n",
    "driver.get(url)\n",
    "driver.maximize_window()\n",
    "\n",
    "time.sleep(1)\n",
    "\n",
    "# 캘린더 클릭\n",
    "# 20일 경우 '20'\n",
    "calendar_status = driver.find_element_by_link_text('20').click()\n",
    "\n",
    "#예약 시작 시간 변경 오후 5:00\n",
    "time.sleep(0.5)\n",
    "#오전 A = 1(12시) 2(1시) 3(2시) 4(3시) 5(4시) 6(5시) 7(6시) 8(7시) 9(8시) 10(9시) 11(10시) 12(11시)\n",
    "#xpath2 = \"//*[@id=\"container\"]/bk-freetime/div[2]/bk-select-time-schedule/div/div[2]/div[1]/ul/li['A']/a/span\"\n",
    "#오후 F = 1(12시) 2(1시) 3(2시) 4(3시) 5(4시) 6(5시) 7(6시) 8(7시) 9(8시) 10(9시) 11(10시) 12(11시)\n",
    "F = 1\n",
    "xpath2 = \"//*[@id='container']/bk-freetime/div[2]/bk-select-time-schedule/div/div[2]/div[2]/ul/li['F']/a/span\"\n",
    "driver.find_element_by_xpath(xpath2).click()\n",
    "\n",
    "# 예약시간 선택 \n",
    "# time.sleep(0.5)\n",
    "xpath4 = \"//*[@id='container']/bk-freetime/div[2]/bk-select-time-schedule/div/div[3]/button/span\"\n",
    "driver.find_element_by_xpath(xpath4).click()\n",
    "\n",
    "# 다음단계\n",
    "# time.sleep(0.5)\n",
    "xpath5 = \"//*[@id='container']/bk-freetime/div[2]/div[2]/bk-submit/div/button\"\n",
    "driver.find_element_by_xpath(xpath5).click()\n",
    "\n",
    "# 결제하기 \n",
    "time.sleep(0.5)\n",
    "xpath6 = \"//*[@id='container']/bk-freetime/div[2]/div[2]/bk-submit/div/button\"\n",
    "driver.find_element_by_xpath(xpath6).click()\n",
    "\n",
    "# 계좌간편결제\n",
    "time.sleep(0.5)\n",
    "xpath7 = \"//*[@id='orderForm']/div/div[5]/div[1]/div[1]/ul[1]/li[1]/div[1]/span/span\"\n",
    "driver.find_element_by_xpath(xpath7).click()"
   ]
  }
 ],
 "metadata": {
  "kernelspec": {
   "display_name": "Python 3",
   "language": "python",
   "name": "python3"
  },
  "language_info": {
   "codemirror_mode": {
    "name": "ipython",
    "version": 3
   },
   "file_extension": ".py",
   "mimetype": "text/x-python",
   "name": "python",
   "nbconvert_exporter": "python",
   "pygments_lexer": "ipython3",
   "version": "3.8.3"
  }
 },
 "nbformat": 4,
 "nbformat_minor": 4
}
